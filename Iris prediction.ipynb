{
 "cells": [
  {
   "cell_type": "markdown",
   "id": "a1e3d25d",
   "metadata": {},
   "source": [
    "### Kartik Gupta\n",
    "### Bharat Intern\n",
    "### Predict the different species of flowers on the length of there petals and sepals"
   ]
  },
  {
   "cell_type": "code",
   "execution_count": 30,
   "id": "ca816b5f",
   "metadata": {},
   "outputs": [],
   "source": [
    "import numpy as np\n",
    "import pandas as pd\n",
    "import matplotlib.pyplot as plt\n",
    "from sklearn.model_selection import train_test_split"
   ]
  },
  {
   "cell_type": "code",
   "execution_count": 31,
   "id": "3c5a8dff",
   "metadata": {},
   "outputs": [],
   "source": [
    "# import data\n",
    "iris_data = pd.read_csv('iris.csv')"
   ]
  },
  {
   "cell_type": "code",
   "execution_count": 32,
   "id": "293aa4b8",
   "metadata": {},
   "outputs": [
    {
     "data": {
      "text/html": [
       "<div>\n",
       "<style scoped>\n",
       "    .dataframe tbody tr th:only-of-type {\n",
       "        vertical-align: middle;\n",
       "    }\n",
       "\n",
       "    .dataframe tbody tr th {\n",
       "        vertical-align: top;\n",
       "    }\n",
       "\n",
       "    .dataframe thead th {\n",
       "        text-align: right;\n",
       "    }\n",
       "</style>\n",
       "<table border=\"1\" class=\"dataframe\">\n",
       "  <thead>\n",
       "    <tr style=\"text-align: right;\">\n",
       "      <th></th>\n",
       "      <th>Id</th>\n",
       "      <th>SepalLengthCm</th>\n",
       "      <th>SepalWidthCm</th>\n",
       "      <th>PetalLengthCm</th>\n",
       "      <th>PetalWidthCm</th>\n",
       "      <th>Species</th>\n",
       "    </tr>\n",
       "  </thead>\n",
       "  <tbody>\n",
       "    <tr>\n",
       "      <th>0</th>\n",
       "      <td>1</td>\n",
       "      <td>5.1</td>\n",
       "      <td>3.5</td>\n",
       "      <td>1.4</td>\n",
       "      <td>0.2</td>\n",
       "      <td>Iris-setosa</td>\n",
       "    </tr>\n",
       "    <tr>\n",
       "      <th>1</th>\n",
       "      <td>2</td>\n",
       "      <td>4.9</td>\n",
       "      <td>3.0</td>\n",
       "      <td>1.4</td>\n",
       "      <td>0.2</td>\n",
       "      <td>Iris-setosa</td>\n",
       "    </tr>\n",
       "    <tr>\n",
       "      <th>2</th>\n",
       "      <td>3</td>\n",
       "      <td>4.7</td>\n",
       "      <td>3.2</td>\n",
       "      <td>1.3</td>\n",
       "      <td>0.2</td>\n",
       "      <td>Iris-setosa</td>\n",
       "    </tr>\n",
       "    <tr>\n",
       "      <th>3</th>\n",
       "      <td>4</td>\n",
       "      <td>4.6</td>\n",
       "      <td>3.1</td>\n",
       "      <td>1.5</td>\n",
       "      <td>0.2</td>\n",
       "      <td>Iris-setosa</td>\n",
       "    </tr>\n",
       "    <tr>\n",
       "      <th>4</th>\n",
       "      <td>5</td>\n",
       "      <td>5.0</td>\n",
       "      <td>3.6</td>\n",
       "      <td>1.4</td>\n",
       "      <td>0.2</td>\n",
       "      <td>Iris-setosa</td>\n",
       "    </tr>\n",
       "  </tbody>\n",
       "</table>\n",
       "</div>"
      ],
      "text/plain": [
       "   Id  SepalLengthCm  SepalWidthCm  PetalLengthCm  PetalWidthCm      Species\n",
       "0   1            5.1           3.5            1.4           0.2  Iris-setosa\n",
       "1   2            4.9           3.0            1.4           0.2  Iris-setosa\n",
       "2   3            4.7           3.2            1.3           0.2  Iris-setosa\n",
       "3   4            4.6           3.1            1.5           0.2  Iris-setosa\n",
       "4   5            5.0           3.6            1.4           0.2  Iris-setosa"
      ]
     },
     "execution_count": 32,
     "metadata": {},
     "output_type": "execute_result"
    }
   ],
   "source": [
    "# peek at data\n",
    "iris_data.head()"
   ]
  },
  {
   "cell_type": "code",
   "execution_count": 33,
   "id": "71e15db6",
   "metadata": {},
   "outputs": [
    {
     "data": {
      "text/plain": [
       "Index(['SepalLengthCm', 'SepalWidthCm', 'PetalLengthCm', 'PetalWidthCm',\n",
       "       'Species'],\n",
       "      dtype='object')"
      ]
     },
     "execution_count": 33,
     "metadata": {},
     "output_type": "execute_result"
    }
   ],
   "source": [
    "# drop column 'id'\n",
    "iris_data = iris_data.drop(['Id'], axis=1)\n",
    "iris_data.columns"
   ]
  },
  {
   "cell_type": "code",
   "execution_count": 34,
   "id": "49cd14e1",
   "metadata": {},
   "outputs": [
    {
     "name": "stdout",
     "output_type": "stream",
     "text": [
      "the dimension: (150, 5)\n"
     ]
    }
   ],
   "source": [
    "# check dimension\n",
    "print(\"the dimension:\", iris_data.shape)"
   ]
  },
  {
   "cell_type": "code",
   "execution_count": 35,
   "id": "d3fc84a2",
   "metadata": {},
   "outputs": [
    {
     "name": "stdout",
     "output_type": "stream",
     "text": [
      "       SepalLengthCm  SepalWidthCm  PetalLengthCm  PetalWidthCm\n",
      "count     150.000000    150.000000     150.000000    150.000000\n",
      "mean        5.843333      3.054000       3.758667      1.198667\n",
      "std         0.828066      0.433594       1.764420      0.763161\n",
      "min         4.300000      2.000000       1.000000      0.100000\n",
      "25%         5.100000      2.800000       1.600000      0.300000\n",
      "50%         5.800000      3.000000       4.350000      1.300000\n",
      "75%         6.400000      3.300000       5.100000      1.800000\n",
      "max         7.900000      4.400000       6.900000      2.500000\n"
     ]
    }
   ],
   "source": [
    "# summary of the dataset\n",
    "print(iris_data.describe())"
   ]
  },
  {
   "cell_type": "code",
   "execution_count": 36,
   "id": "ae65b62f",
   "metadata": {},
   "outputs": [
    {
     "name": "stdout",
     "output_type": "stream",
     "text": [
      "Species\n",
      "Iris-setosa        50\n",
      "Iris-versicolor    50\n",
      "Iris-virginica     50\n",
      "dtype: int64\n"
     ]
    }
   ],
   "source": [
    "# distribution of classes\n",
    "print(iris_data.groupby('Species').size())"
   ]
  },
  {
   "cell_type": "code",
   "execution_count": 37,
   "id": "ac0d2a17",
   "metadata": {},
   "outputs": [
    {
     "data": {
      "text/plain": [
       "Text(0, 0.5, 'count')"
      ]
     },
     "execution_count": 37,
     "metadata": {},
     "output_type": "execute_result"
    },
    {
     "data": {
      "image/png": "[encoded data removed]",
      "text/plain": [
       "<Figure size 640x480 with 1 Axes>"
      ]
     },
     "metadata": {},
     "output_type": "display_data"
    }
   ],
   "source": [
    "# visualising the distribution\n",
    "iplot = iris_data['Species'].value_counts().plot.bar(title='Flower class distribution')\n",
    "iplot.set_xlabel('class',size=10)\n",
    "iplot.set_ylabel('count',size=10)"
   ]
  },
  {
   "cell_type": "code",
   "execution_count": 38,
   "id": "48a7370a",
   "metadata": {},
   "outputs": [
    {
     "data": {
      "image/png": "[encoded data removed]",
      "text/plain": [
       "<Figure size 640x480 with 4 Axes>"
      ]
     },
     "metadata": {},
     "output_type": "display_data"
    }
   ],
   "source": [
    "# plot histogram\n",
    "iris_data.hist()\n",
    "plt.show()"
   ]
  },
  {
   "cell_type": "code",
   "execution_count": 61,
   "id": "b4688948",
   "metadata": {},
   "outputs": [],
   "source": [
    "# split into training and testing data\n",
    "x = iris_data.drop(['Species'], axis=1)\n",
    "y = iris_data['Species']\n",
    "x_train, x_test, y_train, y_test = train_test_split(x, y, test_size=0.2, random_state=7)"
   ]
  },
  {
   "cell_type": "code",
   "execution_count": 62,
   "id": "d9b17d1c",
   "metadata": {},
   "outputs": [],
   "source": [
    "# importing multiple classification models to compare\n",
    "from sklearn.model_selection import KFold\n",
    "from sklearn.model_selection import cross_val_score\n",
    "from sklearn.linear_model import LogisticRegression\n",
    "from sklearn.tree import DecisionTreeClassifier\n",
    "from sklearn.neighbors import KNeighborsClassifier\n",
    "from sklearn.discriminant_analysis import LinearDiscriminantAnalysis\n",
    "from sklearn.naive_bayes import GaussianNB\n",
    "from sklearn.svm import SVC\n",
    "from sklearn.metrics import accuracy_score"
   ]
  },
  {
   "cell_type": "code",
   "execution_count": 63,
   "id": "afd1bbc1",
   "metadata": {},
   "outputs": [],
   "source": [
    "# models\n",
    "models = []\n",
    "\n",
    "# linear models\n",
    "models.append(('LR', LogisticRegression(solver='liblinear', multi_class=\"auto\")))\n",
    "models.append(('LDA', LinearDiscriminantAnalysis()))\n",
    "\n",
    "# nonlinear models\n",
    "models.append(('CART', DecisionTreeClassifier()))\n",
    "models.append(('KNN', KNeighborsClassifier()))\n",
    "models.append(('GNB', GaussianNB()))\n",
    "models.append(('SVC', SVC(gamma=\"auto\")))"
   ]
  },
  {
   "cell_type": "code",
   "execution_count": 64,
   "id": "499c7b41",
   "metadata": {},
   "outputs": [
    {
     "name": "stdout",
     "output_type": "stream",
     "text": [
      "Model Accuracy:\n",
      "LR: accuracy=0.958333 std=(0.067185)\n",
      "LDA: accuracy=0.983333 std=(0.033333)\n",
      "CART: accuracy=0.983333 std=(0.033333)\n",
      "KNN: accuracy=0.983333 std=(0.033333)\n",
      "GNB: accuracy=0.983333 std=(0.033333)\n",
      "SVC: accuracy=0.983333 std=(0.033333)\n"
     ]
    }
   ],
   "source": [
    "# evaluate each model in turn\n",
    "print(\"Model Accuracy:\")\n",
    "names = []\n",
    "accuracy = []\n",
    "for name, model in models:\n",
    "    # 10 fold cross validation to evalue model\n",
    "    kfold = KFold(n_splits=10 , random_state=6, shuffle=True)\n",
    "    cv_results = cross_val_score(model, x_train, y_train, cv=kfold, scoring='accuracy')\n",
    "    \n",
    "    # display the cross validation results of the current model\n",
    "    names.append(name)\n",
    "    accuracy.append(cv_results)\n",
    "    msg = \"%s: accuracy=%f std=(%f)\" % (name, cv_results.mean(), cv_results.std())\n",
    "    print(msg)"
   ]
  },
  {
   "cell_type": "code",
   "execution_count": 65,
   "id": "5b6a84b9",
   "metadata": {},
   "outputs": [],
   "source": [
    "from sklearn.metrics import classification_report\n",
    "from sklearn.metrics import confusion_matrix"
   ]
  },
  {
   "cell_type": "code",
   "execution_count": 66,
   "id": "0bc5864b",
   "metadata": {},
   "outputs": [],
   "source": [
    "# Test the KNN, GNB, and SVC models with test data\n",
    "models = []\n",
    "models.append(('KNN', KNeighborsClassifier()))\n",
    "models.append(('GNB', GaussianNB()))\n",
    "models.append(('SVC', SVC(gamma=\"auto\")))"
   ]
  },
  {
   "cell_type": "code",
   "execution_count": 67,
   "id": "af356536",
   "metadata": {},
   "outputs": [],
   "source": [
    "# reusable function to test our model\n",
    "def test_model(model):\n",
    "    model.fit(x_train, y_train) \n",
    "    predictions = model.predict(x_test)\n",
    "    \n",
    "    print(\"Accuracy:\", accuracy_score(y_test, predictions))\n",
    "    print(\"Confusion Matrix:\")\n",
    "    print(confusion_matrix(y_test, predictions))\n",
    "    print(\"Classification Report:\")\n",
    "    print(classification_report(y_test, predictions))"
   ]
  },
  {
   "cell_type": "code",
   "execution_count": 68,
   "id": "d7abc9a1",
   "metadata": {},
   "outputs": [
    {
     "name": "stdout",
     "output_type": "stream",
     "text": [
      "_______________________________________________________________\n",
      "Testing KNN\n",
      "Accuracy: 0.9\n",
      "Confusion Matrix:\n",
      "[[ 7  0  0]\n",
      " [ 0 11  1]\n",
      " [ 0  2  9]]\n",
      "Classification Report:\n",
      "                 precision    recall  f1-score   support\n",
      "\n",
      "    Iris-setosa       1.00      1.00      1.00         7\n",
      "Iris-versicolor       0.85      0.92      0.88        12\n",
      " Iris-virginica       0.90      0.82      0.86        11\n",
      "\n",
      "       accuracy                           0.90        30\n",
      "      macro avg       0.92      0.91      0.91        30\n",
      "   weighted avg       0.90      0.90      0.90        30\n",
      "\n",
      "_______________________________________________________________\n",
      "Testing GNB\n",
      "Accuracy: 0.8333333333333334\n",
      "Confusion Matrix:\n",
      "[[7 0 0]\n",
      " [0 9 3]\n",
      " [0 2 9]]\n",
      "Classification Report:\n",
      "                 precision    recall  f1-score   support\n",
      "\n",
      "    Iris-setosa       1.00      1.00      1.00         7\n",
      "Iris-versicolor       0.82      0.75      0.78        12\n",
      " Iris-virginica       0.75      0.82      0.78        11\n",
      "\n",
      "       accuracy                           0.83        30\n",
      "      macro avg       0.86      0.86      0.86        30\n",
      "   weighted avg       0.84      0.83      0.83        30\n",
      "\n",
      "_______________________________________________________________\n",
      "Testing SVC\n",
      "Accuracy: 0.9333333333333333\n",
      "Confusion Matrix:\n",
      "[[ 7  0  0]\n",
      " [ 0 10  2]\n",
      " [ 0  0 11]]\n",
      "Classification Report:\n",
      "                 precision    recall  f1-score   support\n",
      "\n",
      "    Iris-setosa       1.00      1.00      1.00         7\n",
      "Iris-versicolor       1.00      0.83      0.91        12\n",
      " Iris-virginica       0.85      1.00      0.92        11\n",
      "\n",
      "       accuracy                           0.93        30\n",
      "      macro avg       0.95      0.94      0.94        30\n",
      "   weighted avg       0.94      0.93      0.93        30\n",
      "\n"
     ]
    }
   ],
   "source": [
    "for name, model in models:\n",
    "    print(\"_______________________________________________________________\")\n",
    "    print(\"Testing\", name)\n",
    "    test_model(model)"
   ]
  },
  {
   "cell_type": "markdown",
   "id": "c4265f13",
   "metadata": {},
   "source": [
    "### SVC gets the highest accuracy of 0.93"
   ]
  },
  {
   "cell_type": "code",
   "execution_count": null,
   "id": "f52dfa7a",
   "metadata": {},
   "outputs": [],
   "source": []
  }
 ],
 "metadata": {
  "kernelspec": {
   "display_name": "Python 3 (ipykernel)",
   "language": "python",
   "name": "python3"
  },
  "language_info": {
   "codemirror_mode": {
    "name": "ipython",
    "version": 3
   },
   "file_extension": ".py",
   "mimetype": "text/x-python",
   "name": "python",
   "nbconvert_exporter": "python",
   "pygments_lexer": "ipython3",
   "version": "3.11.2"
  }
 },
 "nbformat": 4,
 "nbformat_minor": 5
}
